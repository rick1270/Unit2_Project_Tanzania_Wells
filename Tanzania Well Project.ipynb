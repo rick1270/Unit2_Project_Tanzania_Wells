{
 "cells": [
  {
   "cell_type": "code",
   "execution_count": 1,
   "metadata": {},
   "outputs": [],
   "source": [
    "import pandas as pd\n",
    "import numpy as np\n",
    "import matplotlib.pyplot as plt\n",
    "from sklearn.metrics import accuracy_score, classification_report, recall_score\n",
    "from sklearn.model_selection import train_test_split, GridSearchCV\n",
    "from sklearn.pipeline import make_pipeline\n",
    "from sklearn.linear_model import LogisticRegressionCV, LogisticRegression\n",
    "from sklearn.feature_selection import SelectKBest, chi2, f_regression, f_classif\n",
    "from sklearn.preprocessing import RobustScaler, OneHotEncoder\n",
    "import csv\n",
    "import warnings\n",
    "from sklearn.ensemble import RandomForestClassifier, RandomForestRegressor\n",
    "from sklearn.model_selection import RandomizedSearchCV\n",
    "from scipy.cluster import hierarchy as hc\n",
    "warnings.simplefilter(action='ignore', category=FutureWarning)\n",
    "pd.options.display.max_rows = 9999\n"
   ]
  },
  {
   "cell_type": "markdown",
   "metadata": {},
   "source": [
    "amount_tsh : Total static head (amount water available to waterpoint)\n",
    "date_recorded : The date the row was entered\n",
    "funder : Who funded the well\n",
    "gps_height : Altitude of the well\n",
    "installer : Organization that installed the well\n",
    "longitude : GPS coordinate\n",
    "latitude : GPS coordinate\n",
    "wpt_name : Name of the waterpoint if there is one\n",
    "num_private :\n",
    "basin : Geographic water basin\n",
    "subvillage : Geographic location\n",
    "region : Geographic location\n",
    "region_code : Geographic location (coded)\n",
    "district_code : Geographic location (coded)\n",
    "lga : Geographic location\n",
    "ward : Geographic location\n",
    "population : Population around the well\n",
    "public_meeting : True/False\n",
    "recorded_by : Group entering this row of data\n",
    "scheme_management : Who operates the waterpoint\n",
    "scheme_name : Who operates the waterpoint\n",
    "permit : If the waterpoint is permitted\n",
    "construction_year : Year the waterpoint was constructed\n",
    "extraction_type : The kind of extraction the waterpoint uses\n",
    "extraction_type_group : The kind of extraction the waterpoint uses\n",
    "extraction_type_class : The kind of extraction the waterpoint uses\n",
    "management : How the waterpoint is managed\n",
    "management_group : How the waterpoint is managed\n",
    "payment : What the water costs\n",
    "payment_type : What the water costs\n",
    "water_quality : The quality of the water\n",
    "quality_group : The quality of the water\n",
    "quantity : The quantity of water\n",
    "quantity_group : The quantity of water\n",
    "source : The source of the water\n",
    "source_type : The source of the water\n",
    "source_class : The source of the water\n",
    "waterpoint_type : The kind of waterpoint\n",
    "waterpoint_type_group : The kind of waterpoint"
   ]
  },
  {
   "cell_type": "code",
   "execution_count": 2,
   "metadata": {},
   "outputs": [
    {
     "name": "stdout",
     "output_type": "stream",
     "text": [
      "(59400, 40) (59400, 2)\n",
      "id                         int64\n",
      "amount_tsh               float64\n",
      "date_recorded             object\n",
      "funder                    object\n",
      "gps_height                 int64\n",
      "installer                 object\n",
      "longitude                float64\n",
      "latitude                 float64\n",
      "wpt_name                  object\n",
      "num_private                int64\n",
      "basin                     object\n",
      "subvillage                object\n",
      "region                    object\n",
      "region_code                int64\n",
      "district_code              int64\n",
      "lga                       object\n",
      "ward                      object\n",
      "population                 int64\n",
      "public_meeting            object\n",
      "recorded_by               object\n",
      "scheme_management         object\n",
      "scheme_name               object\n",
      "permit                    object\n",
      "construction_year          int64\n",
      "extraction_type           object\n",
      "extraction_type_group     object\n",
      "extraction_type_class     object\n",
      "management                object\n",
      "management_group          object\n",
      "payment                   object\n",
      "payment_type              object\n",
      "water_quality             object\n",
      "quality_group             object\n",
      "quantity                  object\n",
      "quantity_group            object\n",
      "source                    object\n",
      "source_type               object\n",
      "source_class              object\n",
      "waterpoint_type           object\n",
      "waterpoint_type_group     object\n",
      "dtype: object\n",
      "id               int64\n",
      "status_group    object\n",
      "dtype: object\n"
     ]
    }
   ],
   "source": [
    "df_X = pd.read_csv('tanz_train_features.csv')\n",
    "df_y = pd.read_csv('tanz_train_labels.csv')\n",
    "Test_X = pd.read_csv('tanz_test_features.csv')\n",
    "submit = pd.read_csv('tanz_sample_submission.csv')\n",
    "print(df_X.shape, df_y.shape)\n",
    "print(df_X.dtypes)\n",
    "print(df_y.dtypes)"
   ]
  },
  {
   "cell_type": "code",
   "execution_count": 3,
   "metadata": {},
   "outputs": [
    {
     "data": {
      "text/plain": [
       "functional                 32259\n",
       "non functional             22824\n",
       "functional needs repair     4317\n",
       "Name: status_group, dtype: int64"
      ]
     },
     "execution_count": 3,
     "metadata": {},
     "output_type": "execute_result"
    }
   ],
   "source": [
    "pd.value_counts(df_y['status_group'])"
   ]
  },
  {
   "cell_type": "code",
   "execution_count": 4,
   "metadata": {
    "code_folding": [
     2
    ]
   },
   "outputs": [],
   "source": [
    "# Not going to use... lowered score by .025\n",
    "\n",
    "cleaning_dict =         {\n",
    "                           'ADP Busangi':'ADP',\n",
    "                           'ADRA':'ADRA /Government',\n",
    "                           'AIC':'AICT',\n",
    "                           'AMP Contracts':'AMP Contract', \n",
    "                           'AMP contractor':'AMP Contract',\n",
    "                           'Active KMK':'Active MKM',\n",
    "                           'Adra /Community':'Adra',\n",
    "                           'Adra/ Community':'Adra',\n",
    "                          'Adra/Community':'Adra',\n",
    "                           'Angli':'Anglikana',\n",
    "                           'Atisan': 'Artisan',\n",
    "                           'COMMU':'COMMUNITY', \n",
    "                           'Cebtral Government':'CENTRAL GOVERNMENT',\n",
    "                          'Centr':'CENTRAL GOVERNMENT',\n",
    "                          'Central Government':'CENTRAL GOVERNMENT',\n",
    "                          'Central government':'CENTRAL GOVERNMENT',\n",
    "                          'Central govt':'CENTRAL GOVERNMENT',\n",
    "                          'Commu':'Community',\n",
    "                          'Communit':'Community',\n",
    "                          'Conce': 'Concern',\n",
    "                          'Cons':'Consultant',\n",
    "                          'Consultant Engineer':'Consultant',\n",
    "                          'Consultant and DWE':'Consultant',\n",
    "                          'Consulting Engineer':'Consultant',\n",
    "                          'Consulting engineer':'Consultant',\n",
    "                          'Consuting Engineer':'Consultant',\n",
    "                          'Cosmo':'Cosmos Engineering',\n",
    "                           'Counc':'Council',\n",
    "                           'DANID':'DANIDA',\n",
    "                           'DISTRICT COUNCIL':'District Council',\n",
    "                           'DMDD/SOLIDER':'DMDD',\n",
    "                           'DWE/':'DWE',\n",
    "                           'DWE}':'DWE',\n",
    "                           'Distri':'District  Council',\n",
    "                           'District COUNCIL':'District  Council',\n",
    "                           'District Counci':'District  Council',\n",
    "                           'District Council':'District  Council',\n",
    "                           'District council':'District  Council',\n",
    "                           'District water depar':'District Water Department',\n",
    "                           'District water department':'District Water Department',\n",
    "                           'Dr. Matomola':'Dr. Matobola',\n",
    "                           'Dr.Matobola':'Dr. Matobola',\n",
    "                           'Dr.Matomola':'Dr. Matobola',\n",
    "                           'FINI WATER':'FIN WATER',\n",
    "                           'FINLAND':'FIN WATER',\n",
    "                           'FINN WATER':'FIN WATER',\n",
    "                           'FiNI WATER':'FIN WATER',\n",
    "                           'FinW':'FIN WATER',\n",
    "                           'FinWater':'FIN WATER',\n",
    "                           'Fini Water':'FIN WATER',\n",
    "                           'Fini water':'FIN WATER',\n",
    "                           'Finland Government':'FIN WATER',\n",
    "                           'Finwater':'FIN WATER',\n",
    "                           'GOVER':'GOVERNMENT',\n",
    "                           'GOVERN':'GOVERNMENT',\n",
    "                           'Gove':'GOVERNMENT',\n",
    "                           'Gover':'GOVERNMENT',\n",
    "                           'central government':'GOVERNMENT',\n",
    "                           'Government':'GOVERNMENT',\n",
    "                           'Tanz':'Tanzania Government',    \n",
    "                           'Tanza':'Tanzania Government',    \n",
    "                           'Tanzania':'Tanzania Government',    \n",
    "                           'Goldstar':'Gold star',\n",
    "                           'Gwasco L':'Gwasco',\n",
    "                           'Gwaseco':'Gwasco',\n",
    "                           'Halmashauri':'Halmashauli',\n",
    "                           'Halmashauri ya manispa tabora':'Halmashauli',\n",
    "                           'Halmashauri ya wilaya':'Halmashauli',\n",
    "                           'Halmashauri ya wilaya sikonge':'Halmashauli',\n",
    "                           'Handeni Trunk Main(':'Handeni Trunk Main',\n",
    "                           'Hesewa':'Hesawa',    \n",
    "                           'ISF/Government':'ISF',    \n",
    "                           'ISF/TACARE':'ISF',    \n",
    "                           'Individuals':'Individual',    \n",
    "                           'JAICA CO':'JAICA',    \n",
    "                           'JANDU PLUMBER CO':'JANDU PLUMBER  CO',    \n",
    "                           'Japan Government':'JAPAN EMBASSY',    \n",
    "                           'Jeica':'Jaica',     \n",
    "                           'KKKT CHURCH':'KKKT',     \n",
    "                           'KKKT _ Konde and DWE':'KKKT', \n",
    "                           'KKKT-Dioces ya Pare':'KKKT', \n",
    "                           'KKT':'KKKT',     \n",
    "                           'KKT C':'KKKT', \n",
    "                           'KkKT':'KKKT', \n",
    "                           'Kkkt':'KKKT',    \n",
    "                           'Karugendo':'Kalugendo',    \n",
    "                           'Kuwait':'KUWAIT',\n",
    "                           'kuwait':'KUWAIT',\n",
    "                           'Kilwa company':'Kiliwater',\n",
    "                           'Kilwater':'Kiliwater',   \n",
    "                           'Kiliwater r':'Kiliwater',    \n",
    "                           'Killflora/ Community':'Killflora /Community',    \n",
    "                           'LOCAL CONTRACT':'Local',    \n",
    "                           'Local  technician':'Local',    \n",
    "                           'Local l technician':'Local',    \n",
    "                           'Local te':'Local',\n",
    "                           'Local technical':'Local',    \n",
    "                           'Local technical tec':'Local',    \n",
    "                           'Local technician':'Local',     \n",
    "                           'Lawatefuka water sup':'Lawate fuka water su',     \n",
    "                           'MASWI DRILLING':'MASWI',    \n",
    "                           'MDRD':'MDRDP', \n",
    "                           'MINISTRYOF WATER':'MINISTRY OF WATER',\n",
    "                           'Ministry of water':'MINISTRY OF WATER',\n",
    "                           'Ministry of water engineer':'MINISTRY OF WATER',    \n",
    "                           'MLAKI CO':'MLAKI  CO',    \n",
    "                           'MTUWASA and Community':'MTUWASA',    \n",
    "                           'MUWSA':'MUWASA',    \n",
    "                           'MWE &':'MWE',    \n",
    "                           'Mackd':'MACK DONALD CONTRACTOR',     \n",
    "                           'Maji block':'Maji Tech',    \n",
    "                           'Makonde water population':'Makonde',     \n",
    "                           'Maswi company':'Maswi',    \n",
    "                           'Mileniam':'Milenia',    \n",
    "                           'Mileniam project':'Milenia',    \n",
    "                           'Milenium':'Milenia',    \n",
    "                           'Mission':'Missi',    \n",
    "                           'Morrovian':'Morovian', \n",
    "                           'Mosque':'MOSQUE',\n",
    "                           'Norad':'NORAD',    \n",
    "                           'NORAD/':'NORAD',    \n",
    "                           'NYAKILANGANI CO':'NYAKILANGANI  CO',    \n",
    "                           'NYAKILANGANI CONSTRUCTION':'NYAKILANGANI  CO',    \n",
    "                           'Naishu construction co. ltd':'Naishu Construction Co. ltd',    \n",
    "                           'not known':'Unknown',\n",
    "                           'Not kno':'Unknown',    \n",
    "                           'Not known':'Unknown',\n",
    "                           'not known':'Unknown',\n",
    "                           'Unknown':'Unknown',\n",
    "                           'OXFARM':'OXFAM',    \n",
    "                           'Oikos E. Africa':'Oikos E .Africa',    \n",
    "                           'Oikos E.Afrika':'Oikos E .Africa',    \n",
    "                           'Olgilai village community':'Oldadai village community',    \n",
    "                           'Padep':'PADEP',\n",
    "                           'Plan Internationa':'Plan Int',    \n",
    "                           'Pr':'Private',    \n",
    "                           'Priva':'Private',    \n",
    "                           'Privat':'Private',    \n",
    "                           'Private Technician':'Private',    \n",
    "                           'QWICKWIN':'QUWKWIN',\n",
    "                           'RC':'Roman Catholic',   \n",
    "                           'RC C':'Roman Catholic',    \n",
    "                           'RC CATHORIC':'Roman Catholic',    \n",
    "                           'RC CHURCH':'Roman Catholic',     \n",
    "                           'RC Ch':'Roman Catholic',    \n",
    "                           'RC Churc':'Roman Catholic',    \n",
    "                           'RC Church':'Roman Catholic',    \n",
    "                           'RC church':'Roman Catholic',\n",
    "                           'Romam':'Roman Catholic',    \n",
    "                           'Roman':'Roman Catholic',    \n",
    "                           'Roman Ca':'Roman Catholic',    \n",
    "                           'Roman Cathoric -Same':'Roman Catholic',    \n",
    "                           'Roman Cathoric Same':'Roman Catholic',    \n",
    "                           'Roman Church':'Roman Catholic',    \n",
    "                           'Roman catholic':'Roman Catholic',\n",
    "                           'rc ch':'Roman Catholic',    \n",
    "                           'RUDEP/':'RUDE',      \n",
    "                           'RWE /Community':'RWE',    \n",
    "                           'RWE Community':'RWE',    \n",
    "                           'RWE/ Community':'RWE',       \n",
    "                           'RWSSP':'RWSP',    \n",
    "                           'Regional Water':'Region water Department',       \n",
    "                           'Rotery c':'Rotary club',    \n",
    "                           'SAXON BUILDING CONTRACTOR':'SAXON',    \n",
    "                           'SEMA':'SEMA CO LTD',    \n",
    "                           'SERENS':'SERENA',    \n",
    "                           'Shipo':'SHIPO',    \n",
    "                           'Save the rain USA':'Save the rain',      \n",
    "                           'School Adminstrarion':'School',    \n",
    "                           'Serikali ya kijiji':'Serikali',       \n",
    "                           'TASAF/DMDD':'TASAF',    \n",
    "                           'TASSAF /TCRS':'TASSAF',    \n",
    "                           'TASSAF/ TCRS':'TASSAF',     \n",
    "                           'TCRS /CARE':'TCRS',    \n",
    "                           'TCRS /Government':'TCRS',    \n",
    "                           'TCRS /TWESA':'TCRS',   \n",
    "                           'TCRS a':'TCRS',    \n",
    "                           'TCRS/village community':'TCRS',    \n",
    "                           'TLC/community':'TLC',    \n",
    "                           'TRIDEP':'TREDEP',     \n",
    "                           'TWESA/ Community':'TWESA',    \n",
    "                           'The I':'The Isla',\n",
    "                           'Total landcare':'Total land care',     \n",
    "                           'Totoland':'Total land care',     \n",
    "                           'US Embassy':'U.S.A',    \n",
    "                           'USA EMBASSY':'U.S.A',    \n",
    "                           'UDC/Sema':'U.S.A',    \n",
    "                           'UDC/sema':'U.S.A',    \n",
    "                           'UMOJA DRILLING CONTRUCTO':'UMOJA DRILLING CONSTRUCTION',    \n",
    "                           'UN ONE':'UN',    \n",
    "                           'Unicef':'UN',    \n",
    "                           'Unisef':'UN',\n",
    "                           'VILLAG':'VILLAGERS',    \n",
    "                           'VILLAGE COUNCIL':'VILLAGERS',    \n",
    "                           'villagers':'VILLAGERS',    \n",
    "                           'VTECOS':'VITECOS',    \n",
    "                           'Vill':'VILLAGERS',    \n",
    "                           'Villa':'VILLAGERS',    \n",
    "                           'Village':'VILLAGERS',   \n",
    "                           'Village  Council':'VILLAGERS',    \n",
    "                           'Village Community':'VILLAGERS',    \n",
    "                           'Village Council':'VILLAGERS',    \n",
    "                           'Village Counil':'VILLAGERS',    \n",
    "                           'Village Government':'VILLAGERS',    \n",
    "                           'Village community':'VILLAGERS',     \n",
    "                           'Village council':'VILLAGERS',   \n",
    "                           'Village govt':'VILLAGERS',    \n",
    "                           'Villagers':'VILLAGERS',    \n",
    "                           'W/':'W',     \n",
    "                           'WATER AID':'WATER  AID',    \n",
    "                           'WATERAID':'WATER  AID', \n",
    "                           'WD and ID':'W.D &',     \n",
    "                           'WEDECO/WESSONS':'WEDECO',\n",
    "                           'Wedeco':'WEDECO',    \n",
    "                           'WOULD BANK':'WORLD BANK',\n",
    "                           'World Bank':'WORLD BANK',    \n",
    "                           'World bank':'WORLD BANK',     \n",
    "                           'WWF/':'WWF',    \n",
    "                           'Water /sema':'Water  Aid/Sema',    \n",
    "                           'Water Aid/Sema':'Water  Aid/Sema',   \n",
    "                           'Water Aid /sema':'Water  Aid/Sema',    \n",
    "                           'Water Aid/Sema':'Water  Aid/Sema',    \n",
    "                           'Water aid /sema':'Water  Aid/Sema',    \n",
    "                           'Water aid/sema':'Water  Aid/Sema',    \n",
    "                           'World Vission':'World Vision',    \n",
    "                           'World vision':'World Vision',    \n",
    "                           'wanan':'wananchi',\n",
    "                           'Bagamoyo wate':'Bagamoyo Wate',    \n",
    "                           'Borehole':'Bore hole',\n",
    "                           'Busunzu /Nyankwi gravity water supply':'Busunzu /Nyankwi gravity water',    \n",
    "                           'Busunzu/ Nyankwi gravity water':'Busunzu /Nyankwi gravity water',    \n",
    "                           'Busunzu/ Nyankwi gravity water supply':'Busunzu /Nyankwi gravity water',    \n",
    "                           'Chanjare water supply':'Chanjare  water supply',     \n",
    "                           \"Gwang'a chome water supply\":\"Gwang'a Chome water supply\",    \n",
    "                           'Handeni Trunk Main(H':'Handeni Trunk Main (',    \n",
    "                           'Handeni water suply':'Handeni Trunk Main (',    \n",
    "                           'Handeni water supply':'Handeni Trunk Main (',    \n",
    "                           'Igoma Water Supply':'Igoma',\n",
    "                           'Ilolangulu water supply':'Ilolangulu water  supply',                   \n",
    "                           'Imbaseny pumping wate supply':'Imbaseny pumping wate Supply',\n",
    "                           'Imbaseny pumping water supply':'Imbaseny pumping wate Supply',                   \n",
    "                           'Jumuhiya ya watumia maji':'Jumuhiya ya watumia  maji',                                  \n",
    "                           'Kakonko gravity water supply':'Kakonko /Mbizi gravity water supply',                                    \n",
    "                           'Kalemela ziwani':'Kalemela Ziwani',                                 \n",
    "                           'Kalenge Water Supply':'Kalenge',                   \n",
    "                           'Kanga Dam':'Kanga  Dam',                                    \n",
    "                           'Kidia kilemapunda':'Kidia kIlemapunda',                                  \n",
    "                           'Kigonigoni Water supply':'Kigonigoni Water Supply',                               \n",
    "                           'Kilimi and uchama dam':'Kilimi and Uchama dam',                                   \n",
    "                           'Kimuli water supp':'Kimuli  water sup',                                \n",
    "                           'Kirua kahe pumping water trust':'Kirua kahe gravity water supply trust',                          \n",
    "                           'Kisangilo water scheme':'Kisangilo pipelines',                                \n",
    "                           'Kumsasa spring source':'Kumsasa  spring source',                \n",
    "                           'Kyamakata gravity water supply':'Kyamakata Pumping water supply',                                  \n",
    "                           'LAMP water supplying':'LAMP',                                  \n",
    "                           'Lake victoria pipe scheme':'Lake Victoria pipe scheme',                                     \n",
    "                           'Libango water use group scheme':'Libango water scheme',                   \n",
    "                           'Losaa Kia water supply':'Losaa-Kia water supply',     \n",
    "                           'Lutende':'Lutende Scheme',    \n",
    "                           'Lyamungo umbwe water supply':'Lyamungo-Umbwe water supply',     \n",
    "                           'MAKOGA':'MAKOGA WATER SUPPLY',   \n",
    "                           'Magati water schem':'Magati gravity water',\n",
    "                           'Maha':'Maha water supply',                 \n",
    "                           'Mahida-mawanda pipeline':'Mahida mawanda water supply',                   \n",
    "                           'Maji Coast(Ruvu)':'Maji Coast(Ruvu',                              \n",
    "                           'Makanya-Tae water supply':'Makanya Tae water supply',                              \n",
    "                           'Makiidi water supply':'Makidi water supply',                                 \n",
    "                           'Mashati dispensary water supply':'Mashati Dispensary water supply',                   \n",
    "                           'Mashati water supply':'Mashati Dispensary water supply',                             \n",
    "                           'Maswa Water  supply program':'Maswa Water',                   \n",
    "                           'Maswa Water supply program':'Maswa Water',                   \n",
    "                           'Maswa water supply program':'Maswa Water',                                   \n",
    "                           'Matai group Water Supp':'Matai group  Water Sup',                                  \n",
    "                           'Mazinde ngua water s':'Mazinde ngua water',                   \n",
    "                           'Mgaraganza water project':'Mgaraganza  water project',                \n",
    "                           'Mkongoro one':'Mkongoro One',           \n",
    "                           'Mkongoro one water project':'Mkongoro One',                   \n",
    "                           'Mtiro pipeline':'Mtiro  pipeline',               \n",
    "                           'Mwamagembe water supply':'Mwamagembe village water pipe scheme',                   \n",
    "                           'NYA/MAK/BUK piped scheme':'NYA/ MAK/ BUK piped scheme',                 \n",
    "                           'Namahimba water gravity scheme':'Namahimba Water gravity scheme',                     \n",
    "                           'Ngiresi pipe line':'Ngiresi  pipe line',               \n",
    "                           'Nyakarundi spring source':'Nyakarundi  spring source',            \n",
    "                           'Nyanzari water spring':'Nyanzari spring source',                 \n",
    "                           'Nyaruyoba/ Kasaka gravity water':'Nyaruyoba /Kasaka gravity water',   \n",
    "                           'Nyaruyoba/Kasaka gravity water':'Nyaruyoba /Kasaka gravity water',             \n",
    "                           'Nyumba ya mungu pipe scheme':'Nyumba ya Mungu water supply',           \n",
    "                           'Olkokola-mwandet pipe line':'Olkokola mwandet pipe line',                  \n",
    "                           'QWICKWIN':'QUICK WINGS',           \n",
    "                           'Quick wins Program':'QUICK WINGS',                 \n",
    "                           'Rain water':'Rain Water Harvesting',           \n",
    "                           'Rain water harvesting':'Rain Water Harvesting',                   \n",
    "                           'Riftvalley project water supply':'Riftvalley Project water supply',                    \n",
    "                           'water supply &sanitation program':'water supply &sanitation  program',           \n",
    "                           'water supply&sanitation program':'water supply &sanitation  program',           \n",
    "                           'Shallow well':'Shallow Well',\n",
    "                           'shallow well':'Shallow Well',                   \n",
    "                           'Shirimatunda water Supply':'Shirimatunda Water Supply',                 \n",
    "                           'Sinyanga water supplied sch':'Sinyanga  water supplied sc',                  \n",
    "                           'TM lawate water supply':'TM lawate  water supply',                   \n",
    "                           'TM part Four':'TM part  Four',                 \n",
    "                           'TM part one water supply':'TM part One',                  \n",
    "                           'Toloha water supply':'Toloha Water Supply',                   \n",
    "                           'Tove mtwango':'Tove Mtwango gravity Scheme',           \n",
    "                           'Tove-mtwango':'Tove Mtwango gravity Scheme',                \n",
    "                           'Ruvu Ba':'Upper Ruvu Ba',           \n",
    "                           'upper Ruvu''Upper ruvu':'Upper Ruvu Ba',           \n",
    "                           'upper ruvu''Upper ruvu':'Upper Ruvu Ba',       \n",
    "                           \"Uroki-Bomang'ombe water sup\":\"Uroki Bomang'ombe water sup\",           \n",
    "                           'Water Aid':'Water AID',           \n",
    "                           'World banks':'World Bank',           \n",
    "                           'World banks Water supplying':'World Bank',           \n",
    "                           'World banks water supplying':'World Bank',           \n",
    "                            'imalinyi water supply schem':'imalinyi supply scheme',           \n",
    "                           \"wanging'ombe water supply s\":\"wanging'ombe supply scheme\"           \n",
    "                          }"
   ]
  },
  {
   "cell_type": "code",
   "execution_count": 5,
   "metadata": {},
   "outputs": [],
   "source": [
    "df_X = df_X.replace(cleaning_dict)\n",
    "Test_X = Test_X.replace(cleaning_dict)"
   ]
  },
  {
   "cell_type": "code",
   "execution_count": 6,
   "metadata": {},
   "outputs": [
    {
     "data": {
      "text/html": [
       "<div>\n",
       "<style scoped>\n",
       "    .dataframe tbody tr th:only-of-type {\n",
       "        vertical-align: middle;\n",
       "    }\n",
       "\n",
       "    .dataframe tbody tr th {\n",
       "        vertical-align: top;\n",
       "    }\n",
       "\n",
       "    .dataframe thead th {\n",
       "        text-align: right;\n",
       "    }\n",
       "</style>\n",
       "<table border=\"1\" class=\"dataframe\">\n",
       "  <thead>\n",
       "    <tr style=\"text-align: right;\">\n",
       "      <th></th>\n",
       "      <th>status_group</th>\n",
       "    </tr>\n",
       "  </thead>\n",
       "  <tbody>\n",
       "    <tr>\n",
       "      <th>0</th>\n",
       "      <td>0</td>\n",
       "    </tr>\n",
       "    <tr>\n",
       "      <th>1</th>\n",
       "      <td>0</td>\n",
       "    </tr>\n",
       "    <tr>\n",
       "      <th>2</th>\n",
       "      <td>0</td>\n",
       "    </tr>\n",
       "    <tr>\n",
       "      <th>3</th>\n",
       "      <td>1</td>\n",
       "    </tr>\n",
       "    <tr>\n",
       "      <th>4</th>\n",
       "      <td>0</td>\n",
       "    </tr>\n",
       "  </tbody>\n",
       "</table>\n",
       "</div>"
      ],
      "text/plain": [
       "   status_group\n",
       "0             0\n",
       "1             0\n",
       "2             0\n",
       "3             1\n",
       "4             0"
      ]
     },
     "execution_count": 6,
     "metadata": {},
     "output_type": "execute_result"
    }
   ],
   "source": [
    "df_y.replace(('functional', 'non functional', 'functional needs repair'), (0,1,2), inplace=True)\n",
    "df_y.drop(columns = 'id', inplace=True)\n",
    "df_y.head()\n"
   ]
  },
  {
   "cell_type": "code",
   "execution_count": 7,
   "metadata": {},
   "outputs": [
    {
     "name": "stdout",
     "output_type": "stream",
     "text": [
      "(44550, 40) (14850, 40) (44550, 1) (14850, 1)\n"
     ]
    }
   ],
   "source": [
    "\n",
    "X_train, X_test, y_train, y_test = train_test_split(df_X,df_y)\n",
    "print(X_train.shape, X_test.shape, y_train.shape, y_test.shape)"
   ]
  },
  {
   "cell_type": "code",
   "execution_count": 8,
   "metadata": {},
   "outputs": [
    {
     "data": {
      "text/plain": [
       "((59400,), (59400,))"
      ]
     },
     "execution_count": 8,
     "metadata": {},
     "output_type": "execute_result"
    }
   ],
   "source": [
    "majority_class = df_y.mode()['status_group']\n",
    "y_act = df_y['status_group']\n",
    "y_pred = np.full(shape = y_act.shape, fill_value = majority_class)\n",
    "y_act.shape, y_pred.shape\n",
    "\n"
   ]
  },
  {
   "cell_type": "code",
   "execution_count": 9,
   "metadata": {},
   "outputs": [
    {
     "data": {
      "text/plain": [
       "0.543080808080808"
      ]
     },
     "execution_count": 9,
     "metadata": {},
     "output_type": "execute_result"
    }
   ],
   "source": [
    "accuracy_score(y_act, y_pred)"
   ]
  },
  {
   "cell_type": "code",
   "execution_count": 10,
   "metadata": {},
   "outputs": [
    {
     "data": {
      "text/plain": [
       "id                       59400\n",
       "amount_tsh                  98\n",
       "date_recorded              356\n",
       "funder                    1875\n",
       "gps_height                2428\n",
       "installer                 1922\n",
       "longitude                57516\n",
       "latitude                 57517\n",
       "wpt_name                 37400\n",
       "num_private                 65\n",
       "basin                        9\n",
       "subvillage               19286\n",
       "region                      21\n",
       "region_code                 27\n",
       "district_code               20\n",
       "lga                        125\n",
       "ward                      2092\n",
       "population                1049\n",
       "public_meeting               2\n",
       "recorded_by                  1\n",
       "scheme_management           12\n",
       "scheme_name               2608\n",
       "permit                       2\n",
       "construction_year           55\n",
       "extraction_type             18\n",
       "extraction_type_group       13\n",
       "extraction_type_class        7\n",
       "management                  12\n",
       "management_group             5\n",
       "payment                      7\n",
       "payment_type                 7\n",
       "water_quality                8\n",
       "quality_group                6\n",
       "quantity                     5\n",
       "quantity_group               5\n",
       "source                      10\n",
       "source_type                  7\n",
       "source_class                 3\n",
       "waterpoint_type              7\n",
       "waterpoint_type_group        6\n",
       "dtype: int64"
      ]
     },
     "execution_count": 10,
     "metadata": {},
     "output_type": "execute_result"
    }
   ],
   "source": [
    "df_X.nunique()"
   ]
  },
  {
   "cell_type": "code",
   "execution_count": 11,
   "metadata": {
    "scrolled": true
   },
   "outputs": [
    {
     "name": "stdout",
     "output_type": "stream",
     "text": [
      "amount_tsh                   0\n",
      "gps_height                   0\n",
      "installer                 3655\n",
      "num_private                  0\n",
      "basin                        0\n",
      "subvillage                 371\n",
      "region                       0\n",
      "region_code                  0\n",
      "district_code                0\n",
      "lga                          0\n",
      "ward                         0\n",
      "population                   0\n",
      "public_meeting            3334\n",
      "scheme_management         3877\n",
      "scheme_name              28166\n",
      "permit                    3056\n",
      "construction_year            0\n",
      "extraction_type              0\n",
      "extraction_type_group        0\n",
      "extraction_type_class        0\n",
      "management                   0\n",
      "management_group             0\n",
      "payment                      0\n",
      "payment_type                 0\n",
      "water_quality                0\n",
      "quality_group                0\n",
      "quantity                     0\n",
      "quantity_group               0\n",
      "source                       0\n",
      "source_type                  0\n",
      "source_class                 0\n",
      "waterpoint_type              0\n",
      "waterpoint_type_group        0\n",
      "dtype: int64\n",
      "amount_tsh               0\n",
      "gps_height               0\n",
      "installer                0\n",
      "num_private              0\n",
      "basin                    0\n",
      "subvillage               0\n",
      "region                   0\n",
      "region_code              0\n",
      "district_code            0\n",
      "lga                      0\n",
      "ward                     0\n",
      "population               0\n",
      "public_meeting           0\n",
      "scheme_management        0\n",
      "scheme_name              0\n",
      "permit                   0\n",
      "construction_year        0\n",
      "extraction_type          0\n",
      "extraction_type_group    0\n",
      "extraction_type_class    0\n",
      "management               0\n",
      "management_group         0\n",
      "payment                  0\n",
      "payment_type             0\n",
      "water_quality            0\n",
      "quality_group            0\n",
      "quantity                 0\n",
      "quantity_group           0\n",
      "source                   0\n",
      "source_type              0\n",
      "source_class             0\n",
      "waterpoint_type          0\n",
      "waterpoint_type_group    0\n",
      "dtype: int64\n"
     ]
    }
   ],
   "source": [
    "df_X_cat = df_X.drop(columns = ['funder', 'id', 'wpt_name', 'date_recorded', 'longitude', 'latitude', 'recorded_by'])\n",
    "Test_X_cat = Test_X.drop(columns = ['funder', 'id', 'wpt_name', 'date_recorded', 'longitude', 'latitude', 'recorded_by'])\n",
    "print(df_X_cat.isna().sum())\n",
    "df_X_cat = df_X_cat.fillna('Unknown')\n",
    "Test_X_cat = Test_X_cat.fillna('Unknown')\n",
    "print(df_X_cat.isna().sum())"
   ]
  },
  {
   "cell_type": "code",
   "execution_count": 12,
   "metadata": {},
   "outputs": [
    {
     "data": {
      "text/plain": [
       "(-0.001, 1965.0]    5090\n",
       "(2005.0, 2010.0]    2680\n",
       "(1995.0, 2000.0]    1303\n",
       "(2000.0, 2005.0]    1224\n",
       "(1990.0, 1995.0]     843\n",
       "(1980.0, 1985.0]     743\n",
       "(1975.0, 1980.0]     622\n",
       "(1985.0, 1990.0]     617\n",
       "(2010.0, 2015.0]     595\n",
       "(1970.0, 1975.0]     507\n",
       "(1965.0, 1970.0]     134\n",
       "Name: construction_year, dtype: int64"
      ]
     },
     "execution_count": 12,
     "metadata": {},
     "output_type": "execute_result"
    }
   ],
   "source": [
    "bins =[0, 1965, 1970, 1975, 1980, 1985, 1990, 1995, 2000, 2005, 2010,2015 ]\n",
    "df_X_cat['construction_year'] = pd.cut(df_X_cat['construction_year'], bins,include_lowest =True)\n",
    "Test_X_cat['construction_year'] = pd.cut(Test_X_cat['construction_year'], bins,include_lowest =True)\n",
    "Test_X_cat['construction_year'].value_counts()"
   ]
  },
  {
   "cell_type": "code",
   "execution_count": 13,
   "metadata": {},
   "outputs": [
    {
     "data": {
      "text/plain": [
       "amount_tsh                  98\n",
       "gps_height                2428\n",
       "installer                 1922\n",
       "num_private                 65\n",
       "basin                        9\n",
       "subvillage               19287\n",
       "region                      21\n",
       "region_code                 27\n",
       "district_code               20\n",
       "lga                        125\n",
       "ward                      2092\n",
       "population                1049\n",
       "public_meeting               3\n",
       "scheme_management           13\n",
       "scheme_name               2608\n",
       "permit                       3\n",
       "construction_year           11\n",
       "extraction_type             18\n",
       "extraction_type_group       13\n",
       "extraction_type_class        7\n",
       "management                  12\n",
       "management_group             5\n",
       "payment                      7\n",
       "payment_type                 7\n",
       "water_quality                8\n",
       "quality_group                6\n",
       "quantity                     5\n",
       "quantity_group               5\n",
       "source                      10\n",
       "source_type                  7\n",
       "source_class                 3\n",
       "waterpoint_type              7\n",
       "waterpoint_type_group        6\n",
       "dtype: int64"
      ]
     },
     "execution_count": 13,
     "metadata": {},
     "output_type": "execute_result"
    }
   ],
   "source": [
    "df_X_cat.nunique()"
   ]
  },
  {
   "cell_type": "code",
   "execution_count": 14,
   "metadata": {},
   "outputs": [
    {
     "name": "stdout",
     "output_type": "stream",
     "text": [
      "(59400, 26226)\n",
      "(14358, 13044)\n"
     ]
    }
   ],
   "source": [
    "df_X_gd = pd.get_dummies(data=df_X_cat)\n",
    "Test_X_gd = pd.get_dummies(data=Test_X_cat)\n",
    "print(df_X_gd.shape)\n",
    "print(Test_X_gd.shape)\n"
   ]
  },
  {
   "cell_type": "code",
   "execution_count": 15,
   "metadata": {},
   "outputs": [
    {
     "name": "stdout",
     "output_type": "stream",
     "text": [
      "(59400, 10503)\n",
      "(14358, 10503)\n"
     ]
    }
   ],
   "source": [
    "drop_col1 = df_X_gd.columns.difference(Test_X_gd.columns).tolist()\n",
    "drop_col2 = Test_X_gd.columns.difference(df_X_gd.columns).tolist()\n",
    "\n",
    "df_X_gd = df_X_gd.drop(columns = drop_col1)\n",
    "Test_X_gd = Test_X_gd.drop(columns = drop_col2)\n",
    "\n",
    "print(df_X_gd.shape)\n",
    "print(Test_X_gd.shape)\n"
   ]
  },
  {
   "cell_type": "code",
   "execution_count": 16,
   "metadata": {},
   "outputs": [
    {
     "name": "stdout",
     "output_type": "stream",
     "text": [
      "(44550, 10503) (14358, 10503) (14850, 10503) (44550, 1) (14850, 1)\n"
     ]
    }
   ],
   "source": [
    "X1_train, X1_test, y1_train, y1_test = train_test_split(df_X_gd,df_y)\n",
    "print(X1_train.shape, Test_X_gd.shape, X1_test.shape, y1_train.shape, y1_test.shape)"
   ]
  },
  {
   "cell_type": "code",
   "execution_count": 17,
   "metadata": {
    "scrolled": true
   },
   "outputs": [
    {
     "name": "stderr",
     "output_type": "stream",
     "text": [
      "C:\\Users\\rick1\\Anaconda3\\lib\\site-packages\\sklearn\\svm\\base.py:922: ConvergenceWarning: Liblinear failed to converge, increase the number of iterations.\n",
      "  \"the number of iterations.\", ConvergenceWarning)\n"
     ]
    },
    {
     "data": {
      "text/plain": [
       "0.792368125701459"
      ]
     },
     "execution_count": 17,
     "metadata": {},
     "output_type": "execute_result"
    }
   ],
   "source": [
    "log_reg = LogisticRegression().fit(X1_train, y1_train.values.ravel())\n",
    "log_reg.score(X1_train, y1_train)"
   ]
  },
  {
   "cell_type": "code",
   "execution_count": 18,
   "metadata": {},
   "outputs": [
    {
     "data": {
      "text/plain": [
       "0.7709090909090909"
      ]
     },
     "execution_count": 18,
     "metadata": {},
     "output_type": "execute_result"
    }
   ],
   "source": [
    "y1_pred = log_reg.predict(X1_test)\n",
    "accuracy_score(y1_test, y1_pred)"
   ]
  },
  {
   "cell_type": "code",
   "execution_count": 19,
   "metadata": {},
   "outputs": [
    {
     "data": {
      "text/html": [
       "<div>\n",
       "<style scoped>\n",
       "    .dataframe tbody tr th:only-of-type {\n",
       "        vertical-align: middle;\n",
       "    }\n",
       "\n",
       "    .dataframe tbody tr th {\n",
       "        vertical-align: top;\n",
       "    }\n",
       "\n",
       "    .dataframe thead th {\n",
       "        text-align: right;\n",
       "    }\n",
       "</style>\n",
       "<table border=\"1\" class=\"dataframe\">\n",
       "  <thead>\n",
       "    <tr style=\"text-align: right;\">\n",
       "      <th></th>\n",
       "      <th>id</th>\n",
       "      <th>status_group</th>\n",
       "    </tr>\n",
       "  </thead>\n",
       "  <tbody>\n",
       "    <tr>\n",
       "      <th>0</th>\n",
       "      <td>50785</td>\n",
       "      <td>1</td>\n",
       "    </tr>\n",
       "    <tr>\n",
       "      <th>1</th>\n",
       "      <td>51630</td>\n",
       "      <td>0</td>\n",
       "    </tr>\n",
       "    <tr>\n",
       "      <th>2</th>\n",
       "      <td>17168</td>\n",
       "      <td>1</td>\n",
       "    </tr>\n",
       "    <tr>\n",
       "      <th>3</th>\n",
       "      <td>45559</td>\n",
       "      <td>1</td>\n",
       "    </tr>\n",
       "    <tr>\n",
       "      <th>4</th>\n",
       "      <td>49871</td>\n",
       "      <td>0</td>\n",
       "    </tr>\n",
       "  </tbody>\n",
       "</table>\n",
       "</div>"
      ],
      "text/plain": [
       "      id  status_group\n",
       "0  50785             1\n",
       "1  51630             0\n",
       "2  17168             1\n",
       "3  45559             1\n",
       "4  49871             0"
      ]
     },
     "execution_count": 19,
     "metadata": {},
     "output_type": "execute_result"
    }
   ],
   "source": [
    "submit['status_group']=log_reg.predict(Test_X_gd)\n",
    "submit.head()"
   ]
  },
  {
   "cell_type": "code",
   "execution_count": 20,
   "metadata": {},
   "outputs": [
    {
     "data": {
      "text/html": [
       "<div>\n",
       "<style scoped>\n",
       "    .dataframe tbody tr th:only-of-type {\n",
       "        vertical-align: middle;\n",
       "    }\n",
       "\n",
       "    .dataframe tbody tr th {\n",
       "        vertical-align: top;\n",
       "    }\n",
       "\n",
       "    .dataframe thead th {\n",
       "        text-align: right;\n",
       "    }\n",
       "</style>\n",
       "<table border=\"1\" class=\"dataframe\">\n",
       "  <thead>\n",
       "    <tr style=\"text-align: right;\">\n",
       "      <th></th>\n",
       "      <th>id</th>\n",
       "      <th>status_group</th>\n",
       "    </tr>\n",
       "  </thead>\n",
       "  <tbody>\n",
       "    <tr>\n",
       "      <th>1604</th>\n",
       "      <td>20847</td>\n",
       "      <td>functional</td>\n",
       "    </tr>\n",
       "    <tr>\n",
       "      <th>7727</th>\n",
       "      <td>17981</td>\n",
       "      <td>functional</td>\n",
       "    </tr>\n",
       "    <tr>\n",
       "      <th>7082</th>\n",
       "      <td>29511</td>\n",
       "      <td>non functional</td>\n",
       "    </tr>\n",
       "    <tr>\n",
       "      <th>2247</th>\n",
       "      <td>23414</td>\n",
       "      <td>functional</td>\n",
       "    </tr>\n",
       "    <tr>\n",
       "      <th>6690</th>\n",
       "      <td>30607</td>\n",
       "      <td>functional</td>\n",
       "    </tr>\n",
       "    <tr>\n",
       "      <th>11857</th>\n",
       "      <td>47768</td>\n",
       "      <td>functional</td>\n",
       "    </tr>\n",
       "    <tr>\n",
       "      <th>8494</th>\n",
       "      <td>72898</td>\n",
       "      <td>non functional</td>\n",
       "    </tr>\n",
       "    <tr>\n",
       "      <th>3302</th>\n",
       "      <td>50360</td>\n",
       "      <td>functional</td>\n",
       "    </tr>\n",
       "    <tr>\n",
       "      <th>12096</th>\n",
       "      <td>40701</td>\n",
       "      <td>functional</td>\n",
       "    </tr>\n",
       "    <tr>\n",
       "      <th>2720</th>\n",
       "      <td>57433</td>\n",
       "      <td>functional</td>\n",
       "    </tr>\n",
       "  </tbody>\n",
       "</table>\n",
       "</div>"
      ],
      "text/plain": [
       "          id    status_group\n",
       "1604   20847      functional\n",
       "7727   17981      functional\n",
       "7082   29511  non functional\n",
       "2247   23414      functional\n",
       "6690   30607      functional\n",
       "11857  47768      functional\n",
       "8494   72898  non functional\n",
       "3302   50360      functional\n",
       "12096  40701      functional\n",
       "2720   57433      functional"
      ]
     },
     "execution_count": 20,
     "metadata": {},
     "output_type": "execute_result"
    }
   ],
   "source": [
    "submit.replace((0,1,2),('functional', 'non functional', 'functional needs repair'), inplace=True)\n",
    "submit.sample(10)"
   ]
  },
  {
   "cell_type": "code",
   "execution_count": 21,
   "metadata": {},
   "outputs": [],
   "source": [
    "#submit.to_csv (r'C:\\Users\\rick1\\Google Drive\\Jupyter Notebooks\\Project2\\logRegSubmission_6.csv', index = False, header=True)"
   ]
  },
  {
   "cell_type": "code",
   "execution_count": 26,
   "metadata": {},
   "outputs": [
    {
     "name": "stdout",
     "output_type": "stream",
     "text": [
      "Wall time: 41min 49s\n"
     ]
    },
    {
     "data": {
      "text/plain": [
       "0.8049158249158249"
      ]
     },
     "execution_count": 26,
     "metadata": {},
     "output_type": "execute_result"
    }
   ],
   "source": [
    "m = RandomForestClassifier(n_estimators=100,min_samples_leaf=3 ,n_jobs=-1,max_features=0.25)\n",
    "%time m.fit(X1_train, y1_train.values.ravel())\n",
    "y_pred= m.predict(X1_test)\n",
    "accuracy_score(y1_test, y_pred)"
   ]
  },
  {
   "cell_type": "code",
   "execution_count": 23,
   "metadata": {},
   "outputs": [
    {
     "data": {
      "text/html": [
       "<div>\n",
       "<style scoped>\n",
       "    .dataframe tbody tr th:only-of-type {\n",
       "        vertical-align: middle;\n",
       "    }\n",
       "\n",
       "    .dataframe tbody tr th {\n",
       "        vertical-align: top;\n",
       "    }\n",
       "\n",
       "    .dataframe thead th {\n",
       "        text-align: right;\n",
       "    }\n",
       "</style>\n",
       "<table border=\"1\" class=\"dataframe\">\n",
       "  <thead>\n",
       "    <tr style=\"text-align: right;\">\n",
       "      <th></th>\n",
       "      <th>id</th>\n",
       "      <th>status_group</th>\n",
       "    </tr>\n",
       "  </thead>\n",
       "  <tbody>\n",
       "    <tr>\n",
       "      <th>0</th>\n",
       "      <td>50785</td>\n",
       "      <td>1</td>\n",
       "    </tr>\n",
       "    <tr>\n",
       "      <th>1</th>\n",
       "      <td>51630</td>\n",
       "      <td>0</td>\n",
       "    </tr>\n",
       "    <tr>\n",
       "      <th>2</th>\n",
       "      <td>17168</td>\n",
       "      <td>0</td>\n",
       "    </tr>\n",
       "    <tr>\n",
       "      <th>3</th>\n",
       "      <td>45559</td>\n",
       "      <td>1</td>\n",
       "    </tr>\n",
       "    <tr>\n",
       "      <th>4</th>\n",
       "      <td>49871</td>\n",
       "      <td>0</td>\n",
       "    </tr>\n",
       "  </tbody>\n",
       "</table>\n",
       "</div>"
      ],
      "text/plain": [
       "      id  status_group\n",
       "0  50785             1\n",
       "1  51630             0\n",
       "2  17168             0\n",
       "3  45559             1\n",
       "4  49871             0"
      ]
     },
     "execution_count": 23,
     "metadata": {},
     "output_type": "execute_result"
    }
   ],
   "source": [
    "submit['status_group'] = m.predict(Test_X_gd)\n",
    "submit.head()"
   ]
  },
  {
   "cell_type": "code",
   "execution_count": 24,
   "metadata": {},
   "outputs": [
    {
     "data": {
      "text/html": [
       "<div>\n",
       "<style scoped>\n",
       "    .dataframe tbody tr th:only-of-type {\n",
       "        vertical-align: middle;\n",
       "    }\n",
       "\n",
       "    .dataframe tbody tr th {\n",
       "        vertical-align: top;\n",
       "    }\n",
       "\n",
       "    .dataframe thead th {\n",
       "        text-align: right;\n",
       "    }\n",
       "</style>\n",
       "<table border=\"1\" class=\"dataframe\">\n",
       "  <thead>\n",
       "    <tr style=\"text-align: right;\">\n",
       "      <th></th>\n",
       "      <th>id</th>\n",
       "      <th>status_group</th>\n",
       "    </tr>\n",
       "  </thead>\n",
       "  <tbody>\n",
       "    <tr>\n",
       "      <th>12633</th>\n",
       "      <td>46466</td>\n",
       "      <td>non functional</td>\n",
       "    </tr>\n",
       "    <tr>\n",
       "      <th>13065</th>\n",
       "      <td>66741</td>\n",
       "      <td>functional</td>\n",
       "    </tr>\n",
       "    <tr>\n",
       "      <th>2503</th>\n",
       "      <td>8821</td>\n",
       "      <td>functional</td>\n",
       "    </tr>\n",
       "    <tr>\n",
       "      <th>12681</th>\n",
       "      <td>72868</td>\n",
       "      <td>functional</td>\n",
       "    </tr>\n",
       "    <tr>\n",
       "      <th>13257</th>\n",
       "      <td>4434</td>\n",
       "      <td>functional</td>\n",
       "    </tr>\n",
       "    <tr>\n",
       "      <th>1113</th>\n",
       "      <td>49680</td>\n",
       "      <td>functional</td>\n",
       "    </tr>\n",
       "    <tr>\n",
       "      <th>13568</th>\n",
       "      <td>67575</td>\n",
       "      <td>non functional</td>\n",
       "    </tr>\n",
       "    <tr>\n",
       "      <th>5677</th>\n",
       "      <td>47582</td>\n",
       "      <td>functional</td>\n",
       "    </tr>\n",
       "    <tr>\n",
       "      <th>2850</th>\n",
       "      <td>71768</td>\n",
       "      <td>functional</td>\n",
       "    </tr>\n",
       "    <tr>\n",
       "      <th>8137</th>\n",
       "      <td>33760</td>\n",
       "      <td>non functional</td>\n",
       "    </tr>\n",
       "  </tbody>\n",
       "</table>\n",
       "</div>"
      ],
      "text/plain": [
       "          id    status_group\n",
       "12633  46466  non functional\n",
       "13065  66741      functional\n",
       "2503    8821      functional\n",
       "12681  72868      functional\n",
       "13257   4434      functional\n",
       "1113   49680      functional\n",
       "13568  67575  non functional\n",
       "5677   47582      functional\n",
       "2850   71768      functional\n",
       "8137   33760  non functional"
      ]
     },
     "execution_count": 24,
     "metadata": {},
     "output_type": "execute_result"
    }
   ],
   "source": [
    "submit.replace((0,1,2),('functional', 'non functional', 'functional needs repair'), inplace=True)\n",
    "submit.sample(10)"
   ]
  },
  {
   "cell_type": "code",
   "execution_count": 27,
   "metadata": {},
   "outputs": [],
   "source": [
    "submit.to_csv (r'C:\\Users\\rick1\\Google Drive\\Jupyter Notebooks\\Project2\\RandForestSubmission_9.csv', index = False, header=True)"
   ]
  }
 ],
 "metadata": {
  "kernelspec": {
   "display_name": "Python 3",
   "language": "python",
   "name": "python3"
  },
  "language_info": {
   "codemirror_mode": {
    "name": "ipython",
    "version": 3
   },
   "file_extension": ".py",
   "mimetype": "text/x-python",
   "name": "python",
   "nbconvert_exporter": "python",
   "pygments_lexer": "ipython3",
   "version": "3.7.0"
  }
 },
 "nbformat": 4,
 "nbformat_minor": 2
}
